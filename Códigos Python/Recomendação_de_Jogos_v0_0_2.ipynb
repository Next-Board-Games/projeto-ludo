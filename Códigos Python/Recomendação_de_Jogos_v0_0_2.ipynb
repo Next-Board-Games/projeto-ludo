{
  "nbformat": 4,
  "nbformat_minor": 0,
  "metadata": {
    "colab": {
      "provenance": []
    },
    "kernelspec": {
      "name": "python3",
      "display_name": "Python 3"
    },
    "language_info": {
      "name": "python"
    }
  },
  "cells": [
    {
      "cell_type": "code",
      "source": [
        "import pandas as pd\n",
        "from sklearn.preprocessing import StandardScaler, OneHotEncoder\n",
        "from sklearn.compose import ColumnTransformer\n",
        "from sklearn.cluster import KMeans\n",
        "from sklearn.pipeline import Pipeline\n",
        "import json\n",
        "from sklearn.metrics.pairwise import cosine_similarity\n",
        "from sklearn.impute import SimpleImputer\n",
        "\n",
        "# Caminho para o arquivo JSON\n",
        "file_path = '/content/jogos_detalhe.json'\n",
        "\n",
        "# ==============================================================================\n",
        "# Seção 1: Carregamento e Preparação dos Dados\n",
        "# ==============================================================================\n",
        "\n",
        "# Carregar os dados do arquivo JSON\n",
        "with open(file_path, 'r') as file:\n",
        "    data = json.load(file)\n",
        "df = pd.json_normalize(data)\n",
        "\n",
        "# Pré-processamento: Conversão de listas em strings separadas por vírgula\n",
        "cat_cols_list = ['mecanicas', 'categorias', 'temas']\n",
        "for col in cat_cols_list:\n",
        "    df[col] = df[col].apply(lambda x: ', '.join([str(i['nm_'+col[:-1]]) for i in x]) if isinstance(x, list) else x)\n",
        "\n",
        "# Adicionando imputadores para colunas numéricas e categóricas\n",
        "num_imputer = SimpleImputer(strategy='mean')\n",
        "cat_imputer = SimpleImputer(strategy='constant', fill_value='desconhecido')\n",
        "\n",
        "# Atualizando o preprocessor com imputadores\n",
        "preprocessor = ColumnTransformer(\n",
        "    transformers=[\n",
        "        ('num', Pipeline(steps=[('imputer', num_imputer), ('scaler', StandardScaler())]), ['qt_jogadores_min', 'qt_jogadores_max', 'vl_tempo_jogo', 'idade_minima']),\n",
        "        ('cat', Pipeline(steps=[('imputer', cat_imputer), ('encoder', OneHotEncoder(handle_unknown='ignore'))]), ['mecanicas', 'categorias', 'temas'])\n",
        "    ])\n",
        "\n",
        "# ==============================================================================\n",
        "# Seção 2: Treinamento do Modelo de Clustering\n",
        "# ==============================================================================\n",
        "\n",
        "kmeans = KMeans(n_clusters=5, random_state=42, n_init=10)  # Defina explicitamente n_init para evitar o aviso\n",
        "pipeline = Pipeline(steps=[('preprocessor', preprocessor), ('cluster', kmeans)])\n",
        "\n",
        "# Seleção das colunas relevantes para o clustering e treinamento do modelo\n",
        "cols_for_clustering = ['qt_jogadores_min', 'qt_jogadores_max', 'vl_tempo_jogo', 'idade_minima', 'mecanicas', 'categorias', 'temas']\n",
        "df_clustering = df[cols_for_clustering]\n",
        "pipeline.fit(df_clustering)\n",
        "\n",
        "# Adicionar a coluna de cluster ao DataFrame original\n",
        "df['cluster'] = pipeline.predict(df_clustering)\n",
        "\n",
        "# Definindo popularity_cols antes de calcular a pontuação de popularidade\n",
        "popularity_cols = ['qt_quer', 'qt_favorito', 'qt_jogou', 'qt_tem', 'qt_teve']\n",
        "df['popularity_score'] = df[popularity_cols].sum(axis=1)\n",
        "\n",
        "# ==============================================================================\n",
        "# Seção 3: Função de Recomendação\n",
        "# ==============================================================================\n",
        "\n",
        "def recomendar_jogos(base, nome=None, mecanicas=None, categorias=None, temas=None):\n",
        "    \"\"\"\n",
        "    Função para recomendar jogos com base em combinações de nome, mecânicas, categorias e temas.\n",
        "\n",
        "    Parâmetros:\n",
        "    - base (DataFrame): DataFrame contendo os dados dos jogos.\n",
        "    - nome (str, opcional): Nome do jogo para recomendação baseada em cluster.\n",
        "    - mecanicas (list, opcional): Lista de mecânicas para filtro.\n",
        "    - categorias (list, opcional): Lista de categorias para filtro.\n",
        "    - temas (list, opcional): Lista de temas para filtro.\n",
        "\n",
        "    Retorna:\n",
        "    - DataFrame com as top recomendações com base na popularidade.\n",
        "    \"\"\"\n",
        "    recomendacoes = base.copy()\n",
        "\n",
        "    if nome:\n",
        "        filtro_nome = base['nm_jogo'].str.lower() == nome.lower()\n",
        "        if filtro_nome.any():\n",
        "            jogo_selecionado = base[filtro_nome].iloc[0]\n",
        "            cluster = jogo_selecionado['cluster']\n",
        "            recomendacoes = base[base['cluster'] == cluster]\n",
        "        else:\n",
        "            print(f\"Nenhum jogo encontrado com o nome: {nome}\")\n",
        "            return pd.DataFrame()\n",
        "\n",
        "    # Remover o jogo pesquisado das recomendações\n",
        "    if nome:\n",
        "        recomendacoes = recomendacoes[recomendacoes['nm_jogo'].str.lower() != nome.lower()]\n",
        "\n",
        "    # Filtrar por mecânicas, categorias e temas, se fornecidos\n",
        "    if mecanicas:\n",
        "        recomendacoes = recomendacoes[recomendacoes['mecanicas'].str.contains('|'.join(mecanicas), case=False, na=False)]\n",
        "    if categorias:\n",
        "        recomendacoes = recomendacoes[recomendacoes['categorias'].str.contains('|'.join(categorias), case=False, na=False)]\n",
        "    if temas:\n",
        "        recomendacoes = recomendacoes[recomendacoes['temas'].str.contains('|'.join(temas), case=False, na=False)]\n",
        "\n",
        "    if recomendacoes.empty:\n",
        "        print(\"Nenhuma recomendação encontrada.\")\n",
        "        return recomendacoes\n",
        "\n",
        "    # Ordenar as recomendações pela pontuação de popularidade e retornar os top 3\n",
        "    top_recomendacoes = recomendacoes.sort_values(by='popularity_score', ascending=False).head(3)\n",
        "    return top_recomendacoes[['nm_jogo', 'popularity_score']]\n",
        "\n",
        "# ==============================================================================\n",
        "# Seção 4: Exemplos de Uso da Função de Recomendação\n",
        "# ==============================================================================\n",
        "\n",
        "# Exemplo de chamada da função\n",
        "# resultado_nome = recomendar_jogos(df, tipo='nome', valor='Stone Age')\n",
        "# print(resultado_nome)\n",
        "\n",
        "# Exemplo de chamada da função para mecânica\n",
        "# resultado_mecanica = recomendar_jogos(df, tipo='mecanica', valor='Alocação de Trabalhadores')\n",
        "# print(resultado_mecanica)\n",
        "\n",
        "# Nota: Remova os comentários das chamadas de função para executá-las e ver os resultados."
      ],
      "metadata": {
        "id": "vAvCoSpeON2b"
      },
      "execution_count": 33,
      "outputs": []
    },
    {
      "cell_type": "code",
      "source": [
        "# Exemplo de pesquisa por nome\n",
        "resultado_nome = recomendar_jogos(df, nome='Catan: O Jogo')\n",
        "print(resultado_nome)"
      ],
      "metadata": {
        "colab": {
          "base_uri": "https://localhost:8080/"
        },
        "id": "EfDqPp1zWWlk",
        "outputId": "3c92da49-812a-4313-f97d-15394b35940c"
      },
      "execution_count": 52,
      "outputs": [
        {
          "output_type": "stream",
          "name": "stdout",
          "text": [
            "            nm_jogo  popularity_score\n",
            "598           Dixit           15235.0\n",
            "766  The Resistance           14470.0\n",
            "327        Munchkin           12097.0\n"
          ]
        }
      ]
    },
    {
      "cell_type": "code",
      "source": [
        "# Exemplo de pesquisa combinada\n",
        "resultado_combinado = recomendar_jogos(df, mecanicas=['RPG'], temas=['Policial'])\n",
        "print(resultado_combinado)"
      ],
      "metadata": {
        "colab": {
          "base_uri": "https://localhost:8080/"
        },
        "id": "YF9xo7pxRPxQ",
        "outputId": "3e96ca69-45ea-4890-e537-dc09c3b3f27c"
      },
      "execution_count": 57,
      "outputs": [
        {
          "output_type": "stream",
          "name": "stdout",
          "text": [
            "                                               nm_jogo  popularity_score\n",
            "11181  Mansions of Madness (2ª Edição): Além do Limiar            2106.0\n",
            "12835  Mansions of Madness (2ª Edição): Ruas de Arkham            2032.0\n",
            "59                                 Mansions of Madness            1866.0\n"
          ]
        }
      ]
    }
  ]
}